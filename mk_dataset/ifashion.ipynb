{
 "cells": [
  {
   "cell_type": "code",
   "execution_count": 5,
   "metadata": {},
   "outputs": [
    {
     "name": "stdout",
     "output_type": "stream",
     "text": [
      "item_data.txt\n",
      "item_data.txt.zip\n",
      "outfit_data.txt\n",
      "outfit_data.txt.zip\n",
      "README.md\n",
      "user_data.txt\n",
      "user_data.txt.7z\n"
     ]
    }
   ],
   "source": [
    "%%bash\n",
    "ls /nvme0n1p2/ifashion/"
   ]
  },
  {
   "cell_type": "code",
   "execution_count": 22,
   "metadata": {},
   "outputs": [],
   "source": [
    "user_path = '/nvme0n1p2/ifashion/user_data.txt'\n",
    "item_path = '/nvme0n1p2/ifashion/item_data.txt'\n",
    "outfit_path = '/nvme0n1p2/ifashion/outfit_data.txt'"
   ]
  },
  {
   "cell_type": "markdown",
   "metadata": {},
   "source": [
    "## Data Format\n",
    "\n",
    "Outfit data\n",
    "```\n",
    "outfit_id,item_id;item_id;item_id...\n",
    "```\n",
    "\n",
    "User data\n",
    "```\n",
    "user_id,item_id;item_id;...,outfit_id\n",
    "```\n",
    "\n",
    "Item data\n",
    "```\n",
    "item_id,cate_id,pic_url,title\n",
    "```"
   ]
  },
  {
   "cell_type": "markdown",
   "metadata": {},
   "source": [
    "### User data"
   ]
  },
  {
   "cell_type": "code",
   "execution_count": 8,
   "metadata": {},
   "outputs": [],
   "source": [
    "user_file = []\n",
    "user_outfit_map = set()\n",
    "with open(user_path, 'r') as f1:\n",
    "    for idx, line in enumerate(f1):\n",
    "        user_file.append(line)\n",
    "        user, _, outfit = line.split(',')\n",
    "        if (user,outfit) not in user_outfit_map:\n",
    "            user_outfit_map.add((user,outfit))\n",
    "        else:\n",
    "            print('duplicated user-outfit pair')"
   ]
  },
  {
   "cell_type": "markdown",
   "metadata": {},
   "source": [
    "user data 中的 `user-outfit pair` 无重复。"
   ]
  },
  {
   "cell_type": "code",
   "execution_count": 9,
   "metadata": {},
   "outputs": [
    {
     "name": "stdout",
     "output_type": "stream",
     "text": [
      "duplicated users\n"
     ]
    }
   ],
   "source": [
    "user_set = set()\n",
    "for line in user_file:\n",
    "    user, _, outfit = line.split(',')\n",
    "    if user not in user_set:\n",
    "        user_set.add(user)\n",
    "    else:\n",
    "        print(\"duplicated users\")\n",
    "        break"
   ]
  },
  {
   "cell_type": "code",
   "execution_count": 11,
   "metadata": {},
   "outputs": [
    {
     "name": "stdout",
     "output_type": "stream",
     "text": [
      "duplicated outfit\n"
     ]
    }
   ],
   "source": [
    "outfit_set = set()\n",
    "for line in user_file:\n",
    "    user, _, outfit = line.split(',')\n",
    "    if user not in user_set:\n",
    "        outfit_set.add(outfit)\n",
    "    else:\n",
    "        print(\"duplicated outfit\")\n",
    "        break"
   ]
  },
  {
   "cell_type": "markdown",
   "metadata": {},
   "source": [
    "user data 即为 user-item interactions"
   ]
  },
  {
   "cell_type": "code",
   "execution_count": 31,
   "metadata": {},
   "outputs": [
    {
     "name": "stdout",
     "output_type": "stream",
     "text": [
      "3569112 users, 127169 outfits\n"
     ]
    }
   ],
   "source": [
    "user_set = set()\n",
    "outfit_set = set()\n",
    "for line in user_file:\n",
    "    user, _, outfit = line.split(',')\n",
    "    user_set.add(user)\n",
    "    outfit_set.add(outfit)\n",
    "print(f\"{len(user_set)} users, {len(outfit_set)} outfits\")"
   ]
  },
  {
   "cell_type": "markdown",
   "metadata": {},
   "source": [
    "### item data"
   ]
  },
  {
   "cell_type": "code",
   "execution_count": 22,
   "metadata": {},
   "outputs": [
    {
     "name": "stdout",
     "output_type": "stream",
     "text": [
      "duplicated items:  34564a61f8b834ac3794c9bdef1cb6a4\n"
     ]
    }
   ],
   "source": [
    "item_set = set()\n",
    "with open(item_path, 'r') as f2:\n",
    "    for idx, line in enumerate(f2):\n",
    "        try:\n",
    "            item, cate, pic, title = line.split(',')\n",
    "            if item not in item_set:\n",
    "                item_set.add(item)\n",
    "            else:\n",
    "                print('duplicated items: ', item)\n",
    "                break\n",
    "        except Exception as e:\n",
    "            print(f'{idx} line error: {e}')"
   ]
  },
  {
   "cell_type": "markdown",
   "metadata": {},
   "source": [
    "为什么 item 会重复啊... 匪夷所思"
   ]
  },
  {
   "cell_type": "code",
   "execution_count": 28,
   "metadata": {},
   "outputs": [
    {
     "name": "stdout",
     "output_type": "stream",
     "text": [
      "34564a61f8b834ac3794c9bdef1cb6a4,e89e92593584db62ee08a1502919819d,http://gw.alicdn.com/imgextra/i3/103/O1CN01ngvGkv1CdDIuyYGUQ_!!103-2-luban.png,黑色皮衣大码短款小外套皮夹克OL日系\n",
      "\n",
      "34564a61f8b834ac3794c9bdef1cb6a4,e89e92593584db62ee08a1502919819d,http://gw.alicdn.com/imgextra/i3/103/O1CN01ngvGkv1CdDIuyYGUQ_!!103-2-luban.png,黑色皮衣大码短款小外套皮夹克OL日系\n",
      "\n"
     ]
    }
   ],
   "source": [
    "with open(item_path, 'r') as f2:\n",
    "    for idx, line in enumerate(f2):\n",
    "        item = line.split(',')[0]\n",
    "        if item == \"34564a61f8b834ac3794c9bdef1cb6a4\":\n",
    "            print(line)"
   ]
  },
  {
   "cell_type": "code",
   "execution_count": 27,
   "metadata": {},
   "outputs": [],
   "source": [
    "with open(item_path, 'r') as f2:\n",
    "    for idx, line in enumerate(f2):\n",
    "        try:\n",
    "            data = line.split(',')\n",
    "            item, cate, pic, title = data[0], data[1], data[2], data[3:]\n",
    "        except Exception:\n",
    "            print(line)"
   ]
  },
  {
   "cell_type": "markdown",
   "metadata": {},
   "source": [
    "item data 只能确保前三项，即 item、cate、pic是正确的，title部分格式混乱"
   ]
  },
  {
   "cell_type": "markdown",
   "metadata": {},
   "source": [
    "### outfit data"
   ]
  },
  {
   "cell_type": "code",
   "execution_count": 30,
   "metadata": {},
   "outputs": [],
   "source": [
    "outfit_set = set()\n",
    "with open(outfit_path, 'r') as f3:\n",
    "    for line in f3:\n",
    "        outfit, items = line.split(',')\n",
    "        if outfit not in outfit_set:\n",
    "            outfit_set.add(outfit)\n",
    "        else:\n",
    "            print(\"duplicated outfit: \", outfit)"
   ]
  },
  {
   "cell_type": "markdown",
   "metadata": {},
   "source": [
    "outfit data 无重复"
   ]
  },
  {
   "cell_type": "markdown",
   "metadata": {},
   "source": [
    "## 缩小数据集\n",
    "\n",
    "完整的 ifashion 太大了，拟定缩小策略如下：\n",
    "1. 从用户集随机采样 10w 个用户\n",
    "2. 抽取出这些用户所有的交互记录\n",
    "3. 根据 10-core 设定过滤数据集"
   ]
  },
  {
   "cell_type": "code",
   "execution_count": null,
   "metadata": {},
   "outputs": [
    {
     "name": "stdout",
     "output_type": "stream",
     "text": [
      "19191117 /nvme0n1p2/ifashion/user_data.txt\n",
      "5121303 /nvme0n1p2/ifashion/item_data.txt\n",
      "1013136 /nvme0n1p2/ifashion/outfit_data.txt\n"
     ]
    }
   ],
   "source": [
    "%%bash\n",
    "wc -l /nvme0n1p2/ifashion/user_data.txt\n",
    "wc -l /nvme0n1p2/ifashion/item_data.txt\n",
    "wc -l /nvme0n1p2/ifashion/outfit_data.txt"
   ]
  },
  {
   "cell_type": "markdown",
   "metadata": {},
   "source": [
    "### 用户采样 (5w)"
   ]
  },
  {
   "cell_type": "code",
   "execution_count": 23,
   "metadata": {},
   "outputs": [],
   "source": [
    "import pandas as pd\n",
    "import random\n",
    "\n",
    "# 读取数据\n",
    "df = pd.read_csv(user_path, sep=',', header=None)\n",
    "\n",
    "# 第一列是 user_id\n",
    "df.columns = ['user_id'] + [f'other_{i}' for i in range(1, df.shape[1])]  # 为其他列命名\n",
    "\n",
    "# 随机选择 5 万个不同的 user_id\n",
    "unique_user_ids = df['user_id'].unique()\n",
    "sampled_user_ids = random.sample(list(unique_user_ids), 50000)\n",
    "\n",
    "# 筛选出对应的记录\n",
    "filtered_df = df[df['user_id'].isin(sampled_user_ids)]\n",
    "\n",
    "# 将结果写入新文件\n",
    "filtered_df.to_csv('filtered_user_data.txt', index=False, header=False)"
   ]
  },
  {
   "cell_type": "code",
   "execution_count": 24,
   "metadata": {},
   "outputs": [
    {
     "name": "stdout",
     "output_type": "stream",
     "text": [
      "268616 filtered_user_data.txt\n",
      "291M\tfiltered_user_data.txt\n"
     ]
    }
   ],
   "source": [
    "%%bash\n",
    "wc -l filtered_user_data.txt\n",
    "du -sh filtered_user_data.txt"
   ]
  },
  {
   "cell_type": "markdown",
   "metadata": {},
   "source": [
    "### 格式化数据\n",
    "\n",
    "原始文件转为json，纯文本做筛选完全是折磨自己"
   ]
  },
  {
   "cell_type": "markdown",
   "metadata": {},
   "source": [
    "#### 格式化用户采样数据\n",
    "\n",
    "去重！去重！"
   ]
  },
  {
   "cell_type": "code",
   "execution_count": 25,
   "metadata": {},
   "outputs": [],
   "source": [
    "import json\n",
    "from collections import defaultdict\n",
    "\n",
    "user_data = defaultdict(set)\n",
    "with open('ifashion_out/filter/filtered_user_data.txt', 'r') as file:\n",
    "    for line in file:\n",
    "        user, items, _outfit = line.split(',')\n",
    "        format_items = [item.replace('\\n','') for item in items.split(';')]\n",
    "        for item in format_items: user_data[user].add(item)\n",
    "\n",
    "final_user_data = {}\n",
    "for user in user_data:\n",
    "    final_user_data[user] = list(user_data[user])\n",
    "\n",
    "with open('ifashion_out/user_data.json', 'w', encoding='utf-8') as file:\n",
    "    json.dump(final_user_data, file, ensure_ascii=False)"
   ]
  },
  {
   "cell_type": "code",
   "execution_count": 26,
   "metadata": {},
   "outputs": [
    {
     "name": "stdout",
     "output_type": "stream",
     "text": [
      "50000\n"
     ]
    }
   ],
   "source": [
    "with open('ifashion_out/user_data.json', 'r', encoding='utf-8') as file:\n",
    "    user_data = json.load(file)\n",
    "print(len(user_data))"
   ]
  },
  {
   "cell_type": "code",
   "execution_count": 27,
   "metadata": {},
   "outputs": [
    {
     "name": "stdout",
     "output_type": "stream",
     "text": [
      "95M\tifashion_out/user_data.json\n"
     ]
    }
   ],
   "source": [
    "%%bash\n",
    "du -sh ifashion_out/user_data.json"
   ]
  },
  {
   "cell_type": "markdown",
   "metadata": {},
   "source": [
    "啧，nice👍"
   ]
  },
  {
   "cell_type": "markdown",
   "metadata": {},
   "source": [
    "#### 格式化 item data"
   ]
  },
  {
   "cell_type": "code",
   "execution_count": null,
   "metadata": {},
   "outputs": [],
   "source": [
    "from collections import defaultdict\n",
    "import json\n",
    "\n",
    "origin_item_data_dict = defaultdict(dict)\n",
    "with open(item_path, 'r') as origin_item_file:\n",
    "    for line in origin_item_file:\n",
    "        data = line.split(',')\n",
    "        item = data[0]\n",
    "        _cate = data[1]\n",
    "        pic_url = data[2]\n",
    "        title = data[3].replace('\\n', '')\n",
    "        # 如果有重复的仅保留最后一条\n",
    "        origin_item_data_dict[item]['pic'] = pic_url\n",
    "        origin_item_data_dict[item]['title'] = title\n",
    "\n",
    "with open('ifashion_out/item_data.json', 'w', encoding='utf-8') as item_json:\n",
    "    json.dump(origin_item_data_dict, item_json, ensure_ascii=False)\n",
    "\n",
    "del origin_item_data_dict"
   ]
  },
  {
   "cell_type": "code",
   "execution_count": null,
   "metadata": {},
   "outputs": [
    {
     "name": "stdout",
     "output_type": "stream",
     "text": [
      "4747039\n"
     ]
    }
   ],
   "source": [
    "with open('ifashion_out/item_data.json', 'r') as file:\n",
    "    item_data = json.load(file)\n",
    "print(len(item_data))\n",
    "del item_data"
   ]
  },
  {
   "cell_type": "code",
   "execution_count": 9,
   "metadata": {},
   "outputs": [],
   "source": [
    "with open('ifashion_out/item_data.json', 'r') as file:\n",
    "    item_data = json.load(file)\n",
    "\n",
    "for item in item_data:\n",
    "    pic_url = item_data[item]\n",
    "    if pic_url == \"\" or pic_url is None:\n",
    "        print('error')\n",
    "        break"
   ]
  },
  {
   "cell_type": "markdown",
   "metadata": {},
   "source": [
    "#### 格式化 outfit data"
   ]
  },
  {
   "cell_type": "code",
   "execution_count": 60,
   "metadata": {},
   "outputs": [],
   "source": [
    "import json\n",
    "\n",
    "outfit_data = {}\n",
    "with open(outfit_path, 'r') as file:\n",
    "    for line in file:\n",
    "        data = line.split(',')\n",
    "        outfit = data[0]\n",
    "        items = [item.replace('\\n', '') for item in data[1].split(';')]\n",
    "        outfit_data[outfit] = items\n",
    "\n",
    "with open('ifashion_out/outfit_data.json', 'w', encoding='utf-8') as file:\n",
    "    json.dump(outfit_data, file, ensure_ascii=False)"
   ]
  },
  {
   "cell_type": "code",
   "execution_count": 61,
   "metadata": {},
   "outputs": [
    {
     "name": "stdout",
     "output_type": "stream",
     "text": [
      "1013136\n"
     ]
    }
   ],
   "source": [
    "with open('ifashion_out/outfit_data.json', 'r', encoding='utf-8') as file:\n",
    "    outfit_data = json.load(file)\n",
    "print(len(outfit_data))"
   ]
  },
  {
   "cell_type": "markdown",
   "metadata": {},
   "source": [
    "user_data 中的 outfit 和 outfit_data 并无必然联系，即一个 outfit 对应的所有 item 不一定出现在 user data 中;\n",
    "\n",
    "user 交互的 item，也未必在这个 outfit 对应的 outfit data 中。。。"
   ]
  },
  {
   "cell_type": "markdown",
   "metadata": {},
   "source": [
    "### 筛选 10-core 数据\n",
    "\n",
    "1. user's item num >= 10\n",
    "2. item's image is exists"
   ]
  },
  {
   "cell_type": "code",
   "execution_count": 1,
   "metadata": {},
   "outputs": [],
   "source": [
    "import json\n",
    "\n",
    "with open('ifashion_out/user_data.json', 'r') as file:\n",
    "    user_data = json.load(file)\n",
    "with open('ifashion_out/item_data.json', 'r') as file:\n",
    "    item_data = json.load(file)"
   ]
  },
  {
   "cell_type": "markdown",
   "metadata": {},
   "source": [
    "统计 item 被交互次数"
   ]
  },
  {
   "cell_type": "code",
   "execution_count": 2,
   "metadata": {},
   "outputs": [],
   "source": [
    "item_count = {}\n",
    "for user in user_data:\n",
    "    for item in user_data[user]:\n",
    "        if item in item_count:\n",
    "            item_count[item] += 1\n",
    "        else:\n",
    "            item_count[item] = 1"
   ]
  },
  {
   "cell_type": "markdown",
   "metadata": {},
   "source": [
    "可以看见，user 交互的 item 数量确实很多，但是绝大多数 item 都是\"孤本\""
   ]
  },
  {
   "cell_type": "code",
   "execution_count": 3,
   "metadata": {},
   "outputs": [
    {
     "name": "stdout",
     "output_type": "stream",
     "text": [
      "51946 769148\n"
     ]
    }
   ],
   "source": [
    "n1=0\n",
    "n2=0\n",
    "for item in item_count:\n",
    "    if item_count[item] >= 10: n1+=1\n",
    "    else: n2+=1\n",
    "print(n1, n2)"
   ]
  },
  {
   "cell_type": "code",
   "execution_count": 4,
   "metadata": {},
   "outputs": [
    {
     "name": "stdout",
     "output_type": "stream",
     "text": [
      "filter user data: 38404\n",
      "38404 users, 51946 items, 1093973 interactions, sparsity: 99.95%\n"
     ]
    }
   ],
   "source": [
    "import json\n",
    "\n",
    "user_num=0\n",
    "it_num=0\n",
    "item_set = set()\n",
    "\n",
    "with open('ifashion_out/filter_user_data.json', 'w', encoding='utf-8') as file:\n",
    "    filter_user_data = {}\n",
    "    for user in user_data:\n",
    "        items = user_data[user]\n",
    "        filter_items = [item for item in items if item_count[item] >= 10]\n",
    "        if len(filter_items) >= 10:\n",
    "            user_num+=1\n",
    "            it_num+=len(filter_items)\n",
    "            item_set.update(filter_items)\n",
    "            filter_user_data[user] = filter_items\n",
    "    \n",
    "    json.dump(filter_user_data, file, ensure_ascii=False)\n",
    "    print(f\"filter user data: {len(filter_user_data)}\")\n",
    "\n",
    "print(f\"{user_num} users, {len(item_set)} items, {it_num} interactions, sparsity: {(1-it_num/(user_num*len(item_set)))*100:.2f}%\")\n"
   ]
  },
  {
   "cell_type": "code",
   "execution_count": 5,
   "metadata": {},
   "outputs": [
    {
     "name": "stdout",
     "output_type": "stream",
     "text": [
      "38404\n"
     ]
    }
   ],
   "source": [
    "with open('ifashion_out/filter_user_data.json', 'r', encoding='utf-8') as file:\n",
    "    data = json.load(file)\n",
    "    print(len(data))"
   ]
  },
  {
   "cell_type": "code",
   "execution_count": 6,
   "metadata": {},
   "outputs": [
    {
     "name": "stdout",
     "output_type": "stream",
     "text": [
      "39M\tifashion_out/filter_user_data.json\n"
     ]
    }
   ],
   "source": [
    "%%bash\n",
    "du -sh ifashion_out/filter_user_data.json"
   ]
  },
  {
   "cell_type": "markdown",
   "metadata": {},
   "source": [
    "nice 👍"
   ]
  },
  {
   "cell_type": "markdown",
   "metadata": {},
   "source": [
    "### 生成最终数据集"
   ]
  },
  {
   "cell_type": "code",
   "execution_count": 7,
   "metadata": {},
   "outputs": [],
   "source": [
    "with open('ifashion_out/interactions.txt', 'w', encoding='utf-8') as it_file:\n",
    "    with open('ifashion_out/filter_user_data.json', 'r', encoding='utf-8') as user_file:\n",
    "        user_data = json.load(user_file)\n",
    "        for user in user_data:\n",
    "            for item in user_data[user]:\n",
    "                # ifashion 无 ratings，置为 1\n",
    "                it_file.write(f\"{user} {item} 1\\n\")"
   ]
  },
  {
   "cell_type": "code",
   "execution_count": 8,
   "metadata": {},
   "outputs": [
    {
     "name": "stdout",
     "output_type": "stream",
     "text": [
      "1093973 ifashion_out/interactions.txt\n",
      "71M\tifashion_out/interactions.txt\n"
     ]
    }
   ],
   "source": [
    "%%bash\n",
    "wc -l ifashion_out/interactions.txt\n",
    "du -sh ifashion_out/interactions.txt"
   ]
  },
  {
   "cell_type": "markdown",
   "metadata": {},
   "source": [
    "### 爬取图片\n",
    "\n",
    "[spider_pro.py](./ifashion_out/spider_pro.py)"
   ]
  },
  {
   "cell_type": "markdown",
   "metadata": {},
   "source": [
    "合并多次下载的图片"
   ]
  },
  {
   "cell_type": "code",
   "execution_count": 13,
   "metadata": {},
   "outputs": [
    {
     "name": "stdout",
     "output_type": "stream",
     "text": [
      "total 51946 items\n"
     ]
    }
   ],
   "source": [
    "from pathlib import Path\n",
    "\n",
    "# 从交互数据中抽取需要爬取图片的 items\n",
    "items = set()\n",
    "with open('ifashion_out/filter_user_data.json', 'r', encoding='utf-8') as user_data_file:\n",
    "    user_data = json.load(user_data_file)\n",
    "    for user in user_data:\n",
    "        items.update(user_data[user])\n",
    "print(f\"total {len(items)} items\")\n",
    "\n",
    "dir1 = Path(\"/nvme0n1p2/ifashion/downloaded_images\")\n",
    "dir2 = Path(\"/nvme0n1p2/ifashion/images\")\n",
    "merge_dir = Path(\"/nvme0n1p2/ifashion/item_images\")\n",
    "merge_dir.mkdir(parents=True, exist_ok=True)"
   ]
  },
  {
   "cell_type": "markdown",
   "metadata": {},
   "source": [
    "构造文件列表，用 rsync 去移动"
   ]
  },
  {
   "cell_type": "code",
   "execution_count": 14,
   "metadata": {},
   "outputs": [],
   "source": [
    "with open('dir2.txt', 'w') as dir2_file:\n",
    "    for png_file in dir2.glob('*.png'):\n",
    "        if png_file.stem in items:\n",
    "            dir2_file.write(f\"{png_file.resolve()}\\n\")"
   ]
  },
  {
   "cell_type": "code",
   "execution_count": 16,
   "metadata": {},
   "outputs": [],
   "source": [
    "import re\n",
    "\n",
    "for png_file in dir1.glob('*.png'):\n",
    "    clean_name = re.sub(r'^\\d+-', '', png_file.name)\n",
    "    png_file.rename(png_file.parent/clean_name)"
   ]
  },
  {
   "cell_type": "code",
   "execution_count": 17,
   "metadata": {},
   "outputs": [],
   "source": [
    "with open('dir1.txt', 'w') as dir1_file:\n",
    "    for png_file in dir1.glob('*.png'):\n",
    "        if png_file.stem in items:\n",
    "            dir1_file.write(f\"{png_file.resolve()}\\n\")"
   ]
  },
  {
   "cell_type": "markdown",
   "metadata": {},
   "source": [
    "### 过滤最终数据集\n",
    "\n",
    "最后还需要过滤一下，因为有一些 item 对应的图片不存在或者损坏了"
   ]
  },
  {
   "cell_type": "code",
   "execution_count": 19,
   "metadata": {},
   "outputs": [],
   "source": [
    "from pathlib import Path\n",
    "\n",
    "imgage_path = Path(\"/nvme0n1p2/ifashion/item_images/\")"
   ]
  },
  {
   "cell_type": "code",
   "execution_count": 20,
   "metadata": {},
   "outputs": [],
   "source": [
    "image_name_set = set()  # 所有图片的文件名(无后缀=item)\n",
    "for png in imgage_path.glob('*.png'):\n",
    "    image_name_set.add(png.stem)"
   ]
  },
  {
   "cell_type": "code",
   "execution_count": 21,
   "metadata": {},
   "outputs": [],
   "source": [
    "with open('ifashion_out/filter_interactions.txt', 'w', encoding='utf-8') as file1:\n",
    "    with open('ifashion_out/interactions.txt', 'r') as file2:\n",
    "        for line in file2:\n",
    "            user, item, ratings = line.split(' ')\n",
    "            if item not in image_name_set: continue\n",
    "            file1.write(line)"
   ]
  },
  {
   "cell_type": "code",
   "execution_count": 8,
   "metadata": {},
   "outputs": [
    {
     "name": "stdout",
     "output_type": "stream",
     "text": [
      "delete 1 users\n"
     ]
    }
   ],
   "source": [
    "from collections import defaultdict\n",
    "ui_dict = defaultdict(dict)\n",
    "with open('ifashion_out/filter_interactions.txt', 'r', encoding='utf-8') as file:\n",
    "    for line in file:\n",
    "        user, item, ratings = line.split(' ')\n",
    "        ui_dict[user][item] = ratings.replace('\\n', '')\n",
    "\n",
    "# 删除交互次数不足10次的用户\n",
    "not_core_users = 0\n",
    "with open('ifashion_out/filter_interactions.txt', 'w', encoding='utf-8') as file:\n",
    "    for user, items in ui_dict.items():\n",
    "        if len(items) < 10:\n",
    "            not_core_users += 1\n",
    "            continue\n",
    "        for item, ratings in items.items():\n",
    "            file.write(f\"{user} {item} {ratings}\\n\")\n",
    "            \n",
    "print('delete', not_core_users, 'users')"
   ]
  },
  {
   "cell_type": "markdown",
   "metadata": {},
   "source": [
    "删了一个用户，user_pref 会多出来一个，不过不影响就是了，懒得处理了。"
   ]
  },
  {
   "cell_type": "code",
   "execution_count": 9,
   "metadata": {},
   "outputs": [
    {
     "name": "stdout",
     "output_type": "stream",
     "text": [
      "38403 users, 51939 items, 1093854 interactions\n"
     ]
    }
   ],
   "source": [
    "uset = set()\n",
    "iset = set()\n",
    "it_num = 0\n",
    "with open('ifashion_out/filter_interactions.txt', 'r') as f:\n",
    "    for line in f:\n",
    "        it_num += 1\n",
    "        u = line.split(' ')[0]\n",
    "        i = line.split(' ')[1]\n",
    "        uset.add(u)\n",
    "        iset.add(i)\n",
    "\n",
    "print(f\"{len(uset)} users, {len(iset)} items, {it_num} interactions\")"
   ]
  },
  {
   "cell_type": "code",
   "execution_count": 1,
   "metadata": {},
   "outputs": [
    {
     "name": "stdout",
     "output_type": "stream",
     "text": [
      "1093973 ifashion_out/interactions.txt\n"
     ]
    },
    {
     "name": "stdout",
     "output_type": "stream",
     "text": [
      "1093854 ifashion_out/filter_interactions.txt\n"
     ]
    }
   ],
   "source": [
    "%%bash\n",
    "wc -l ifashion_out/interactions.txt\n",
    "wc -l ifashion_out/filter_interactions.txt"
   ]
  },
  {
   "cell_type": "markdown",
   "metadata": {},
   "source": [
    "## 划分数据集"
   ]
  },
  {
   "cell_type": "code",
   "execution_count": 23,
   "metadata": {},
   "outputs": [
    {
     "name": "stdout",
     "output_type": "stream",
     "text": [
      "原始数据重复行数: 0\n",
      "训练集大小: 765703\n",
      "验证集大小: 109387\n",
      "测试集大小: 218773\n",
      "训练集重复行数: 0\n",
      "验证集重复行数: 0\n",
      "测试集重复行数: 0\n",
      "训练集、验证集和测试集之间重复行数: 0\n"
     ]
    }
   ],
   "source": [
    "import pandas as pd\n",
    "from sklearn.model_selection import train_test_split\n",
    "import os\n",
    "\n",
    "data = pd.read_csv('ifashion_out/filter_interactions.txt', delimiter=' ', header=None)\n",
    "\n",
    "# 检查重复行\n",
    "print(f\"原始数据重复行数: {data.duplicated().sum()}\")\n",
    "\n",
    "# 划分临时集和测试集，比例为8:2\n",
    "temp_data, test_data = train_test_split(data, test_size=0.2, random_state=114514)\n",
    "# 将临时集划分为训练集和验证集，比例为7:1\n",
    "train_data, val_data = train_test_split(temp_data, test_size=0.125, random_state=114514)\n",
    "\n",
    "os.makedirs('ifashion_ds', exist_ok=True)\n",
    "temp_data.to_csv('ifashion_ds/merge_train_data.txt', index=False, header=False, sep=' ')\n",
    "train_data.to_csv('ifashion_ds/train_data.txt', index=False, header=False, sep=' ')\n",
    "val_data.to_csv('ifashion_ds/val_data.txt', index=False, header=False, sep=' ')\n",
    "test_data.to_csv('ifashion_ds/test_data.txt', index=False, header=False, sep=' ')\n",
    "\n",
    "# 查看划分后的数据集大小\n",
    "print(f\"训练集大小: {len(train_data)}\")\n",
    "print(f\"验证集大小: {len(val_data)}\")\n",
    "print(f\"测试集大小: {len(test_data)}\")\n",
    "\n",
    "# 检查是否有重复项\n",
    "print(f\"训练集重复行数: {train_data.duplicated().sum()}\")\n",
    "print(f\"验证集重复行数: {val_data.duplicated().sum()}\")\n",
    "print(f\"测试集重复行数: {test_data.duplicated().sum()}\")\n",
    "\n",
    "# 检查交叉重复项\n",
    "duplicates_in_all = train_data.merge(val_data, how='inner').merge(test_data, how='inner')\n",
    "print(f\"训练集、验证集和测试集之间重复行数: {duplicates_in_all.shape[0]}\")"
   ]
  },
  {
   "cell_type": "markdown",
   "metadata": {},
   "source": [
    "按条数划分有问题，应该按每个用户的交互来分"
   ]
  },
  {
   "cell_type": "code",
   "execution_count": 1,
   "metadata": {},
   "outputs": [],
   "source": [
    "import json\n",
    "from collections import defaultdict\n",
    "\n",
    "ui_dict = defaultdict(dict)\n",
    "with open('ifashion_out/filter_interactions.txt', 'r') as file:\n",
    "    for line in file:\n",
    "        user, item, ratings = line.split(' ')\n",
    "        ui_dict[user][item] = ratings.replace('\\n', '')\n",
    "\n",
    "# 持久化\n",
    "with open('ifashion_ds/ui_dict.json', 'w', encoding='utf-8') as file:\n",
    "    json.dump(ui_dict, file, ensure_ascii=False)"
   ]
  },
  {
   "cell_type": "code",
   "execution_count": 2,
   "metadata": {},
   "outputs": [
    {
     "name": "stdout",
     "output_type": "stream",
     "text": [
      "38403\n"
     ]
    }
   ],
   "source": [
    "import random\n",
    "import json\n",
    "random.seed(114514)\n",
    "\n",
    "with open('ifashion_ds/ui_dict.json', 'r', encoding='utf-8') as file:\n",
    "    ui_dict = json.load(file)\n",
    "\n",
    "ui_tuple_dict = {}\n",
    "for user, it_dict in ui_dict.items():\n",
    "    # 转换成元组列表, 便于分割采样\n",
    "    ui_tuple_dict[user] = [(item, ratings) for item, ratings in it_dict.items()]\n",
    "print(len(ui_tuple_dict))"
   ]
  },
  {
   "cell_type": "code",
   "execution_count": 3,
   "metadata": {},
   "outputs": [
    {
     "name": "stdout",
     "output_type": "stream",
     "text": [
      "0\n"
     ]
    }
   ],
   "source": [
    "train_set = []\n",
    "val_set = []\n",
    "test_set = []\n",
    "not_core = 0\n",
    "for user, it_list in ui_tuple_dict.items():\n",
    "    random.shuffle(it_list)  # 打乱交互数据\n",
    "    it_num = len(it_list)\n",
    "    if it_num < 10: not_core+=1  # 不足10个会导致对应测试集为空\n",
    "    train_num = int(it_num * 0.7)\n",
    "    val_num = int(it_num * 0.1) + train_num\n",
    "\n",
    "    # 将每个用户的交互记录划分到三个子集\n",
    "    for item, rating in it_list[:train_num]: train_set.append((user, item, rating))\n",
    "    for item, rating in it_list[train_num:val_num]: val_set.append((user, item, rating))\n",
    "    for item, rating in it_list[val_num:]: test_set.append((user, item, rating))\n",
    "print(not_core)"
   ]
  },
  {
   "cell_type": "code",
   "execution_count": 5,
   "metadata": {},
   "outputs": [
    {
     "name": "stdout",
     "output_type": "stream",
     "text": [
      "748754\n",
      "93532\n",
      "251568\n"
     ]
    }
   ],
   "source": [
    "print(len(train_set))\n",
    "print(len(val_set))\n",
    "print(len(test_set))"
   ]
  },
  {
   "cell_type": "code",
   "execution_count": 10,
   "metadata": {},
   "outputs": [],
   "source": [
    "from tqdm import tqdm\n",
    "def save_dataset(dataset: list[tuple[str, str, str]], filename: str):\n",
    "    with open(filename, \"w\", encoding='utf-8') as f:\n",
    "        for user, item, ratings in tqdm(dataset):\n",
    "            f.write(f\"{user} {item} {ratings}\\n\")"
   ]
  },
  {
   "cell_type": "code",
   "execution_count": 7,
   "metadata": {},
   "outputs": [
    {
     "name": "stderr",
     "output_type": "stream",
     "text": [
      "100%|██████████| 748754/748754 [00:00<00:00, 2306645.09it/s]\n",
      "100%|██████████| 93532/93532 [00:00<00:00, 1950681.92it/s]\n",
      "100%|██████████| 251568/251568 [00:00<00:00, 2139054.23it/s]\n"
     ]
    }
   ],
   "source": [
    "save_dataset(train_set, 'ifashion_ds/train.txt')\n",
    "save_dataset(val_set, 'ifashion_ds/val.txt')\n",
    "save_dataset(test_set, 'ifashion_ds/test.txt')"
   ]
  },
  {
   "cell_type": "code",
   "execution_count": 13,
   "metadata": {},
   "outputs": [
    {
     "name": "stdout",
     "output_type": "stream",
     "text": [
      "842286\n"
     ]
    },
    {
     "name": "stderr",
     "output_type": "stream",
     "text": [
      "100%|██████████| 842286/842286 [00:00<00:00, 2369412.52it/s]\n"
     ]
    }
   ],
   "source": [
    "merge_train = []\n",
    "for i in train_set: merge_train.append(i)\n",
    "for j in val_set: merge_train.append(j)\n",
    "print(len(merge_train))\n",
    "save_dataset(merge_train, 'ifashion_ds/merge_train.txt')"
   ]
  },
  {
   "cell_type": "markdown",
   "metadata": {},
   "source": [
    "## 图像预处理"
   ]
  },
  {
   "cell_type": "code",
   "execution_count": 2,
   "metadata": {},
   "outputs": [],
   "source": [
    "from transformers import CLIPProcessor, CLIPModel\n",
    "from safetensors.torch import save_file\n",
    "from PIL import Image\n",
    "from safetensors import safe_open\n",
    "import os\n",
    "from tqdm import tqdm\n",
    "import torch"
   ]
  },
  {
   "cell_type": "code",
   "execution_count": 3,
   "metadata": {},
   "outputs": [],
   "source": [
    "model_path = \"/home/yzh/code/SELFRec/model/clip-vit-base-patch32\"\n",
    "# 图片存储路径\n",
    "directory = '/nvme0n1p2/ifashion/item_images'"
   ]
  },
  {
   "cell_type": "markdown",
   "metadata": {},
   "source": [
    "图片都能正常加载，无损毁图片"
   ]
  },
  {
   "cell_type": "code",
   "execution_count": 9,
   "metadata": {},
   "outputs": [
    {
     "name": "stdout",
     "output_type": "stream",
     "text": [
      "0 images error\n"
     ]
    }
   ],
   "source": [
    "from pathlib import Path\n",
    "from PIL import Image\n",
    "\n",
    "directory_path = Path(directory)\n",
    "error_image = []\n",
    "\n",
    "# 遍历目录下的所有图片文件\n",
    "for image_path in directory_path.rglob('*.png'):\n",
    "    try:\n",
    "        image = Image.open(image_path)\n",
    "        width, height = image.size\n",
    "        if width == 1 and height == 1:\n",
    "            print('1x1 image found!')\n",
    "    except Exception as e:\n",
    "        error_image.append(image_path.stem)\n",
    "\n",
    "print(f\"{len(error_image)} images error\")"
   ]
  },
  {
   "cell_type": "markdown",
   "metadata": {},
   "source": [
    "有个问题，提取图像特征会爆 `OSError: image file is truncated`，`LOAD_TRUNCATED_IMAGES` 的试错成本就有点高了，只能暂时放弃批处理，逐图处理"
   ]
  },
  {
   "cell_type": "code",
   "execution_count": 10,
   "metadata": {},
   "outputs": [
    {
     "name": "stderr",
     "output_type": "stream",
     "text": [
      "/home/yzh/env/miniforge3/envs/selfrec/lib/python3.9/site-packages/transformers/tokenization_utils_base.py:1601: FutureWarning: `clean_up_tokenization_spaces` was not set. It will be set to `True` by default. This behavior will be depracted in transformers v4.45, and will be then set to `False` by default. For more details check this issue: https://github.com/huggingface/transformers/issues/31884\n",
      "  warnings.warn(\n",
      "process images: 100%|██████████| 51939/51939 [41:25<00:00, 20.89it/s]  \n"
     ]
    },
    {
     "name": "stdout",
     "output_type": "stream",
     "text": [
      "Total images: 0, Processed images: 51938, Errors: 1\n"
     ]
    }
   ],
   "source": [
    "# 加载模型\n",
    "device = torch.device(\"cuda:1\" if torch.cuda.is_available() else \"cpu\")\n",
    "model = CLIPModel.from_pretrained(model_path).to(device) # type: ignore\n",
    "processor = CLIPProcessor.from_pretrained(model_path)\n",
    "\n",
    "# 初始化计数器\n",
    "image_num = 0\n",
    "processed_num = 0\n",
    "error_num = 0\n",
    "image_embs = {}\n",
    "\n",
    "path_list = list(directory_path.rglob('*.png'))\n",
    "\n",
    "for image_path in tqdm(path_list, desc='process images', total=len(path_list)):\n",
    "    try:\n",
    "        image = Image.open(image_path)\n",
    "        input = processor(images=image, return_tensors='pt').to(device) # type: ignore\n",
    "\n",
    "        with torch.no_grad():\n",
    "            # 使用get_image_features获取图像特征\n",
    "            output = model.get_image_features(pixel_values=input['pixel_values'])\n",
    "    \n",
    "        image_embs[image_path.stem] = output\n",
    "        processed_num += 1\n",
    "    except Exception as e:\n",
    "        error_num += 1\n",
    "        with open('image_error.log', 'a') as error_log:\n",
    "            error_log.write(f\"{image_path}\")\n",
    "\n",
    "# 输出统计信息\n",
    "print(f'Total images: {image_num}, Processed images: {processed_num}, Errors: {error_num}')\n",
    "# 保存为文件\n",
    "save_file(image_embs, 'images.safetensors')"
   ]
  },
  {
   "cell_type": "markdown",
   "metadata": {},
   "source": [
    "找到错误图片了，应该是缺失了尾部标记导致的，先尝试重新下载看看"
   ]
  },
  {
   "cell_type": "code",
   "execution_count": 22,
   "metadata": {},
   "outputs": [],
   "source": [
    "import json\n",
    "import requests\n",
    "\n",
    "with open(\"ifashion_out/item_data.json\", 'r') as item_file:\n",
    "    item_data = json.load(item_file)\n",
    "\n",
    "url = item_data[\"e6719641ea0545261a996476638bd82b\"]['pic']\n",
    "\n",
    "with open(\"e6719641ea0545261a996476638bd82b.png\", 'wb') as wf:\n",
    "    response = requests.get(url)\n",
    "    wf.write(response.content)"
   ]
  },
  {
   "cell_type": "code",
   "execution_count": 26,
   "metadata": {},
   "outputs": [
    {
     "data": {
      "image/png": "[encoded data removed]",
      "text/plain": [
       "<Figure size 640x480 with 1 Axes>"
      ]
     },
     "metadata": {},
     "output_type": "display_data"
    }
   ],
   "source": [
    "import matplotlib.pyplot as plt\n",
    "error_image = Image.open(\"e6719641ea0545261a996476638bd82b.png\")\n",
    "plt.imshow(error_image)\n",
    "plt.axis('off')  # 关闭坐标轴\n",
    "plt.show()"
   ]
  },
  {
   "cell_type": "markdown",
   "metadata": {},
   "source": [
    "搞定 👍\n",
    "\n",
    "重新添加到 safetensors，顺便加点 metadata 以防万一"
   ]
  },
  {
   "cell_type": "code",
   "execution_count": 27,
   "metadata": {},
   "outputs": [
    {
     "name": "stdout",
     "output_type": "stream",
     "text": [
      "51938\n"
     ]
    }
   ],
   "source": [
    "# before\n",
    "from safetensors.torch import load_file, save_file\n",
    "image_tensors = load_file('images.safetensors')\n",
    "print(len(image_tensors))"
   ]
  },
  {
   "cell_type": "code",
   "execution_count": 30,
   "metadata": {},
   "outputs": [],
   "source": [
    "error_image = Image.open(\"/nvme0n1p2/ifashion/item_images/e6719641ea0545261a996476638bd82b.png\")\n",
    "input = processor(images=error_image, return_tensors='pt').to(device) # type: ignore\n",
    "with torch.no_grad():\n",
    "    output = model.get_image_features(pixel_values=input['pixel_values'])\n",
    "image_tensors[\"e6719641ea0545261a996476638bd82b\"] = output\n",
    "metadata = {\n",
    "    \"type\": \"pt\",\n",
    "    \"images num\": \"51939\",\n",
    "    \"origin\": \"Alibaba iFashion of POG\",\n",
    "    \"build by\": \"https://github.com/sun2ot\",\n",
    "    \"time\": \"2024-10-22 14:36\"\n",
    "}\n",
    "save_file(image_tensors, \"ifashion_image.safetensors\", metadata)"
   ]
  },
  {
   "cell_type": "markdown",
   "metadata": {},
   "source": [
    "## 文本预处理"
   ]
  },
  {
   "cell_type": "code",
   "execution_count": 1,
   "metadata": {},
   "outputs": [
    {
     "name": "stderr",
     "output_type": "stream",
     "text": [
      "/home/yzh/env/miniforge3/envs/selfrec/lib/python3.9/site-packages/sentence_transformers/cross_encoder/CrossEncoder.py:13: TqdmExperimentalWarning: Using `tqdm.autonotebook.tqdm` in notebook mode. Use `tqdm.tqdm` instead to force console mode (e.g. in jupyter console)\n",
      "  from tqdm.autonotebook import tqdm, trange\n"
     ]
    }
   ],
   "source": [
    "from sentence_transformers import SentenceTransformer\n",
    "\n",
    "query_prompt_name = \"s2s_query\"\n",
    "model = SentenceTransformer('/home/yzh/code/SELFRec/model/stella_en_1.5B_v5', device=\"cuda:0\", trust_remote_code=True)"
   ]
  },
  {
   "cell_type": "markdown",
   "metadata": {},
   "source": [
    "生成 item text\n",
    "\n",
    "老问题，ifashion 数据集太大了，这里只能对最终数据集进行预处理，全量数据没那个卡🤷‍♀️"
   ]
  },
  {
   "cell_type": "code",
   "execution_count": 2,
   "metadata": {},
   "outputs": [],
   "source": [
    "import json\n",
    "from tqdm import tqdm\n",
    "import torch\n",
    "from safetensors.torch import save_file"
   ]
  },
  {
   "cell_type": "code",
   "execution_count": 6,
   "metadata": {},
   "outputs": [],
   "source": [
    "with open('ifashion_out/item_data.json', 'r') as item_file:\n",
    "    item_data = json.load(item_file)\n",
    "\n",
    "ds_items_data = {}  # 顺序有所谓\n",
    "with open('ifashion_out/filter_interactions.txt', 'r') as ds_file:\n",
    "    for line in ds_file:\n",
    "        i = line.split(' ')[1]\n",
    "        ds_items_data[i] = item_data[i]  # 重复项直接原值覆盖, 自带去重 no problem"
   ]
  },
  {
   "cell_type": "code",
   "execution_count": 7,
   "metadata": {},
   "outputs": [
    {
     "name": "stderr",
     "output_type": "stream",
     "text": [
      "encode text: 100%|██████████| 51939/51939 [10:35<00:00, 81.75it/s]\n"
     ]
    },
    {
     "name": "stdout",
     "output_type": "stream",
     "text": [
      "output embedding shape: torch.Size([51939, 1024])\n"
     ]
    }
   ],
   "source": [
    "text_list = [ds_items_data[item]['title'] for item in ds_items_data]\n",
    "tensor_list = []\n",
    "text_embs = {}\n",
    "\n",
    "text_cache = []\n",
    "for text in tqdm(text_list, desc='encode text'):\n",
    "    text_cache.append(text)\n",
    "    if len(text_cache) == 32:  # 默认batch就是32\n",
    "        batch_embs = model.encode(text_cache, device='cuda:1', prompt_name=query_prompt_name, convert_to_tensor=True)\n",
    "        tensor_list.append(batch_embs)\n",
    "        text_cache.clear()  # 清空缓存\n",
    "\n",
    "# 处理剩余的文本\n",
    "if text_cache:\n",
    "    batch_embs = model.encode(text_cache, device='cuda:1', prompt_name=query_prompt_name, convert_to_tensor=True)\n",
    "    tensor_list.append(batch_embs)\n",
    "\n",
    "all_embs = torch.cat(tensor_list, dim=0)    \n",
    "print(f\"output embedding shape: {all_embs.shape}\")\n",
    "\n",
    "for idx, item in enumerate(ds_items_data.keys()):\n",
    "    text_embs[item] = all_embs[idx]\n",
    "save_file(text_embs, 'ifashion_text.safetensors')"
   ]
  },
  {
   "cell_type": "code",
   "execution_count": 8,
   "metadata": {},
   "outputs": [
    {
     "name": "stdout",
     "output_type": "stream",
     "text": [
      "sending incremental file list\n"
     ]
    },
    {
     "name": "stderr",
     "output_type": "stream",
     "text": [
      "huggingface/tokenizers: The current process just got forked, after parallelism has already been used. Disabling parallelism to avoid deadlocks...\n",
      "To disable this warning, you can either:\n",
      "\t- Avoid using `tokenizers` before the fork if possible\n",
      "\t- Explicitly set the environment variable TOKENIZERS_PARALLELISM=(true | false)\n"
     ]
    },
    {
     "name": "stdout",
     "output_type": "stream",
     "text": [
      "ifashion_text.safetensors\n",
      "    218,037,616 100%  367.97MB/s    0:00:00 (xfr#1, to-chk=0/1)\n",
      "\n",
      "sent 218,090,973 bytes  received 43 bytes  145,394,010.67 bytes/sec\n",
      "total size is 218,037,616  speedup is 1.00\n"
     ]
    }
   ],
   "source": [
    "%%bash\n",
    "rsync -avcP --remove-source-files ifashion_text.safetensors ifashion_ds"
   ]
  },
  {
   "cell_type": "markdown",
   "metadata": {},
   "source": [
    "提取出单独的 item->text 映射，为LLM增强做准备"
   ]
  },
  {
   "cell_type": "code",
   "execution_count": 1,
   "metadata": {},
   "outputs": [],
   "source": [
    "item_set = set()\n",
    "with open(\"ifashion_ds/filter_interactions.txt\", 'r') as ds_file:\n",
    "    for line in ds_file:\n",
    "        item_set.add(line.split(' ')[1])"
   ]
  },
  {
   "cell_type": "code",
   "execution_count": 2,
   "metadata": {},
   "outputs": [],
   "source": [
    "import json\n",
    "\n",
    "with open('ifashion_out/item_data.json', 'r') as item_file:\n",
    "    item_data = json.load(item_file)"
   ]
  },
  {
   "cell_type": "code",
   "execution_count": 3,
   "metadata": {},
   "outputs": [],
   "source": [
    "with open('ifashion_out/ifashion_text.json', 'w', encoding='utf-8') as text_file:\n",
    "    item_text = {}\n",
    "    for item in item_set:\n",
    "        item_text[item] = item_data[item]['title']\n",
    "    \n",
    "    json.dump(item_text, text_file, ensure_ascii=False)"
   ]
  },
  {
   "cell_type": "code",
   "execution_count": 4,
   "metadata": {},
   "outputs": [
    {
     "name": "stdout",
     "output_type": "stream",
     "text": [
      "51939\n"
     ]
    }
   ],
   "source": [
    "with open('ifashion_out/ifashion_text.json', 'r', encoding='utf-8') as text_file:\n",
    "    d = json.load(text_file)\n",
    "    print(len(d))"
   ]
  },
  {
   "cell_type": "markdown",
   "metadata": {},
   "source": [
    "[ollama_aug.py](./ollama_aug.py) 生成用户偏好，然后调整为 json 格式"
   ]
  },
  {
   "cell_type": "code",
   "execution_count": 6,
   "metadata": {},
   "outputs": [
    {
     "name": "stdout",
     "output_type": "stream",
     "text": [
      "38404\n"
     ]
    }
   ],
   "source": [
    "import json\n",
    "\n",
    "user_pref_dict = {}\n",
    "with open(\"ifashion_out/ifashion_user_preference-line.json\", 'r') as file:\n",
    "    for line in file:\n",
    "        data: dict = json.loads(line)\n",
    "        for user, pref in data.items():\n",
    "            user_pref_dict[user] = pref\n",
    "\n",
    "with open('ifashion_out/ifashion_user_pref.json', 'w', encoding='utf-8') as file:\n",
    "    json.dump(user_pref_dict, file, ensure_ascii=False)\n",
    "\n",
    "\n",
    "with open('ifashion_out/ifashion_user_pref.json', 'r') as file:\n",
    "    data = json.load(file)\n",
    "    print(len(data))"
   ]
  },
  {
   "cell_type": "markdown",
   "metadata": {},
   "source": [
    "然后补充生成失败的部分"
   ]
  },
  {
   "cell_type": "code",
   "execution_count": 7,
   "metadata": {},
   "outputs": [
    {
     "name": "stdout",
     "output_type": "stream",
     "text": [
      "before: 38404\n",
      "fix: 6\n",
      "after: 38404\n"
     ]
    }
   ],
   "source": [
    "import json\n",
    "\n",
    "with open('ifashion_out/pref/ifashion_user_pref.json', 'r') as origin:\n",
    "    origin_data: dict[str, str] = json.load(origin)\n",
    "    print(f\"before: {len(origin_data)}\")\n",
    "\n",
    "    fix_path = 'ifashion_out/pref/ifashion_user_preference-20241023_2013.json'\n",
    "    fix_data: dict[str, str] = {}\n",
    "    with open(fix_path, 'r') as f:\n",
    "        for line in f:\n",
    "            data: dict[str, str] = json.loads(line)\n",
    "            for k,v in data.items():\n",
    "                fix_data[k] = v\n",
    "    print(f\"fix: {len(fix_data)}\")\n",
    "\n",
    "    # 更新数据\n",
    "    with open('ifashion_out/pref/ifashion_user_pref.fix.json', 'w', encoding='utf-8') as output:\n",
    "        for k in fix_data.keys():\n",
    "            if k in origin_data:\n",
    "                origin_data[k] = fix_data[k]\n",
    "            else:\n",
    "                print(f\"{k} is in fix data but not in origin data!\")\n",
    "        json.dump(origin_data, output, ensure_ascii=False)\n",
    "    print(f\"after: {len(origin_data)}\")"
   ]
  },
  {
   "cell_type": "markdown",
   "metadata": {},
   "source": [
    "最后生成 user pref embeddings"
   ]
  },
  {
   "cell_type": "code",
   "execution_count": null,
   "metadata": {},
   "outputs": [],
   "source": [
    "# 读取数据\n",
    "with open('ifashion_out/pref/ifashion_user_pref.json', 'r', encoding='utf-8') as file:\n",
    "    user_pref: dict[str, str] = json.load(file)\n",
    "\n",
    "user_pref_embs: dict[str, torch.Tensor] = {}\n",
    "all_embs = []\n",
    "\n",
    "user_pref_cache = []\n",
    "for user in tqdm(user_pref, desc='user pref'):\n",
    "    user_pref_cache.append(user_pref[user])\n",
    "    if len(user_pref_cache) == 16:\n",
    "        pre_embs = model.encode(user_pref_cache, prompt_name=query_prompt_name, device='cuda:0', batch_size=16, convert_to_tensor=True)\n",
    "        all_embs.append(pre_embs)\n",
    "        user_pref_cache.clear()\n",
    "\n",
    "if len(user_pref_cache) > 0:\n",
    "    pre_embs = model.encode(user_pref_cache, prompt_name=query_prompt_name, device='cuda:0', batch_size=16, convert_to_tensor=True)\n",
    "    all_embs.append(pre_embs)\n",
    "\n",
    "final_embs = torch.cat(all_embs, dim=0) \n",
    "print(f\"output embedding shape: {final_embs.shape}\")\n",
    "\n",
    "for idx, user in enumerate(user_pref):\n",
    "    user_pref_embs[user] = final_embs[idx]\n",
    "\n",
    "metadata = {\n",
    "    \"type\": \"pt\",\n",
    "    \"user num\": \"38404\",\n",
    "    \"dim\": \"1024\",\n",
    "    \"build by\": \"https://github.com/sun2ot\",\n",
    "    \"time\": \"2024-10-23 20:22\"\n",
    "}\n",
    "\n",
    "save_file(user_pref_embs, \"user_pre_embs.safetensors\", metadata)"
   ]
  },
  {
   "cell_type": "markdown",
   "metadata": {},
   "source": [
    "# 继续缩小数据集"
   ]
  },
  {
   "cell_type": "markdown",
   "metadata": {},
   "source": [
    "当前数据规模，在 A800 上随便一个多模态的模型都复现不出来，经过我的观察，发现他们的数据集有如下规律：\n",
    "1. ui 数量多的，要么交互次数特别少，要么多模态特征维度很小\n",
    "2. ui 数量少的，交互次数和多模态特征才有可能大\n",
    "\n",
    "说白了，A800 都跑不起来，他们凭啥能跑，凭一个函数600行吗😅"
   ]
  },
  {
   "cell_type": "code",
   "execution_count": 15,
   "metadata": {},
   "outputs": [],
   "source": [
    "import json\n",
    "import random\n",
    "random.seed(114514)\n",
    "\n",
    "with open('ifashion_ds/ui_dict.json', 'r') as file:\n",
    "    ui_dict: dict[str, dict[str, int]] = json.load(file)\n",
    "\n",
    "# 随机采样 2w 个 item\n",
    "item_set = set()\n",
    "for user, item_scores in ui_dict.items():\n",
    "    item_set.update(item_scores.keys())\n",
    "sample_items = random.sample(list(item_set), 20000)\n",
    "\n",
    "for user, item_scores in ui_dict.items():\n",
    "    # 筛选 sample item\n",
    "    filter_item_scores = {item: score for item, score in item_scores.items() if item in sample_items}\n",
    "    # 最大交互次数为 20\n",
    "    if len(filter_item_scores) > 20:\n",
    "        select_items = random.sample(list(filter_item_scores.keys()), 20)\n",
    "        ui_dict[user] = {item: filter_item_scores[item] for item in select_items}\n",
    "    else:\n",
    "        ui_dict[user] = filter_item_scores\n",
    "\n",
    "with open('ifashion_tiny/ui_dict.json', 'w') as file:\n",
    "    json.dump(ui_dict, file, ensure_ascii=False)"
   ]
  },
  {
   "cell_type": "code",
   "execution_count": 16,
   "metadata": {},
   "outputs": [
    {
     "name": "stdout",
     "output_type": "stream",
     "text": [
      "user num: 38403\n",
      "item num: 20000\n",
      "interactions: 382765\n"
     ]
    }
   ],
   "source": [
    "with open('ifashion_tiny/ui_dict.json', 'r') as file:\n",
    "    filter_ui_dict = json.load(file)\n",
    "\n",
    "print(f\"user num: {len(filter_ui_dict)}\")\n",
    "\n",
    "it_num = 0\n",
    "item_set = set()\n",
    "for user, item_scores in filter_ui_dict.items():\n",
    "    it_num += len(item_scores)\n",
    "    item_set.update(item_scores.keys())\n",
    "\n",
    "print(f\"item num: {len(item_set)}\")\n",
    "print(f\"interactions: {it_num}\")"
   ]
  },
  {
   "cell_type": "markdown",
   "metadata": {},
   "source": [
    "~~先试一下这个数量级能不能跑吧~~\n",
    "\n",
    "把 item 缩到 2w 了，再跑不动那就真有意思了"
   ]
  },
  {
   "cell_type": "code",
   "execution_count": 17,
   "metadata": {},
   "outputs": [
    {
     "name": "stdout",
     "output_type": "stream",
     "text": [
      "38403\n"
     ]
    }
   ],
   "source": [
    "import random\n",
    "import json\n",
    "random.seed(114514)\n",
    "\n",
    "with open('ifashion_tiny/ui_dict.json', 'r', encoding='utf-8') as file:\n",
    "    ui_dict = json.load(file)\n",
    "\n",
    "ui_tuple_dict = {}\n",
    "for user, item_scores in ui_dict.items():\n",
    "    # 转换成元组列表, 便于分割采样\n",
    "    ui_tuple_dict[user] = [(item, ratings) for item, ratings in item_scores.items()]\n",
    "print(len(ui_tuple_dict))"
   ]
  },
  {
   "cell_type": "code",
   "execution_count": 18,
   "metadata": {},
   "outputs": [
    {
     "name": "stdout",
     "output_type": "stream",
     "text": [
      "21238\n"
     ]
    }
   ],
   "source": [
    "train_set = []\n",
    "val_set = []\n",
    "test_set = []\n",
    "not_core = 0\n",
    "for user, it_list in ui_tuple_dict.items():\n",
    "    random.shuffle(it_list)  # 打乱交互数据\n",
    "    it_num = len(it_list)\n",
    "    if it_num < 10: not_core+=1  # 不足10个会导致对应测试集为空\n",
    "    train_num = int(it_num * 0.7)\n",
    "    val_num = int(it_num * 0.1) + train_num\n",
    "\n",
    "    # 将每个用户的交互记录划分到三个子集\n",
    "    for item, rating in it_list[:train_num]: train_set.append((user, item, rating))\n",
    "    for item, rating in it_list[train_num:val_num]: val_set.append((user, item, rating))\n",
    "    for item, rating in it_list[val_num:]: test_set.append((user, item, rating))\n",
    "print(not_core)"
   ]
  },
  {
   "cell_type": "code",
   "execution_count": 19,
   "metadata": {},
   "outputs": [
    {
     "name": "stdout",
     "output_type": "stream",
     "text": [
      "251914\n",
      "21348\n",
      "109503\n"
     ]
    }
   ],
   "source": [
    "print(len(train_set))\n",
    "print(len(val_set))\n",
    "print(len(test_set))"
   ]
  },
  {
   "cell_type": "code",
   "execution_count": 20,
   "metadata": {},
   "outputs": [],
   "source": [
    "from tqdm import tqdm\n",
    "def save_dataset(dataset: list[tuple[str, str, str]], filename: str):\n",
    "    with open(filename, \"w\", encoding='utf-8') as f:\n",
    "        for user, item, ratings in tqdm(dataset):\n",
    "            f.write(f\"{user} {item} {ratings}\\n\")"
   ]
  },
  {
   "cell_type": "code",
   "execution_count": 21,
   "metadata": {},
   "outputs": [
    {
     "name": "stderr",
     "output_type": "stream",
     "text": [
      "100%|██████████| 251914/251914 [00:00<00:00, 2029592.64it/s]\n",
      "100%|██████████| 21348/21348 [00:00<00:00, 1571373.45it/s]\n",
      "100%|██████████| 109503/109503 [00:00<00:00, 1872852.04it/s]\n"
     ]
    }
   ],
   "source": [
    "save_dataset(train_set, 'ifashion_tiny/train.txt')\n",
    "save_dataset(val_set, 'ifashion_tiny/val.txt')\n",
    "save_dataset(test_set, 'ifashion_tiny/test.txt')"
   ]
  },
  {
   "cell_type": "code",
   "execution_count": 22,
   "metadata": {},
   "outputs": [
    {
     "name": "stdout",
     "output_type": "stream",
     "text": [
      "273262\n"
     ]
    },
    {
     "name": "stderr",
     "output_type": "stream",
     "text": [
      "100%|██████████| 273262/273262 [00:00<00:00, 2078750.26it/s]\n"
     ]
    }
   ],
   "source": [
    "merge_train = []\n",
    "for i in train_set: merge_train.append(i)\n",
    "for j in val_set: merge_train.append(j)\n",
    "print(len(merge_train))\n",
    "save_dataset(merge_train, 'ifashion_tiny/merge_train.txt')"
   ]
  },
  {
   "cell_type": "code",
   "execution_count": null,
   "metadata": {},
   "outputs": [],
   "source": []
  }
 ],
 "metadata": {
  "kernelspec": {
   "display_name": "selfrec",
   "language": "python",
   "name": "python3"
  },
  "language_info": {
   "codemirror_mode": {
    "name": "ipython",
    "version": 3
   },
   "file_extension": ".py",
   "mimetype": "text/x-python",
   "name": "python",
   "nbconvert_exporter": "python",
   "pygments_lexer": "ipython3",
   "version": "3.9.19"
  }
 },
 "nbformat": 4,
 "nbformat_minor": 2
}
