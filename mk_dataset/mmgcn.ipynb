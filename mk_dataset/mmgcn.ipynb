{
 "cells": [
  {
   "cell_type": "markdown",
   "metadata": {},
   "source": [
    "# 样例数据集"
   ]
  },
  {
   "attachments": {
    "image.png": {
     "image/png": "[encoded data removed]"
    }
   },
   "cell_type": "markdown",
   "metadata": {},
   "source": [
    "![image.png](attachment:image.png)"
   ]
  },
  {
   "cell_type": "code",
   "execution_count": 6,
   "metadata": {},
   "outputs": [],
   "source": [
    "import torch\n",
    "import numpy as np"
   ]
  },
  {
   "cell_type": "code",
   "execution_count": 2,
   "metadata": {},
   "outputs": [],
   "source": [
    "tiktok_path = \"/home/yzh/code/MMGCN/dataset_sample/tiktok\""
   ]
  },
  {
   "cell_type": "markdown",
   "metadata": {},
   "source": [
    "## 多模态特征"
   ]
  },
  {
   "cell_type": "code",
   "execution_count": 3,
   "metadata": {},
   "outputs": [],
   "source": [
    "v_feat = torch.load(f\"{tiktok_path}/v_feat_sample.pt\")"
   ]
  },
  {
   "cell_type": "code",
   "execution_count": 4,
   "metadata": {},
   "outputs": [
    {
     "name": "stdout",
     "output_type": "stream",
     "text": [
      "torch.Size([1651, 128])\n"
     ]
    }
   ],
   "source": [
    "print(v_feat.shape)"
   ]
  },
  {
   "cell_type": "markdown",
   "metadata": {},
   "source": [
    "他也没说，那就当按照 item_id 堆叠的模态特征了 (item_num, dim)"
   ]
  },
  {
   "cell_type": "markdown",
   "metadata": {},
   "source": [
    "## 训练集"
   ]
  },
  {
   "cell_type": "code",
   "execution_count": 7,
   "metadata": {},
   "outputs": [
    {
     "name": "stdout",
     "output_type": "stream",
     "text": [
      "(1929, 2)\n"
     ]
    }
   ],
   "source": [
    "train = np.load(f\"{tiktok_path}/train_sample.npy\")\n",
    "print(train.shape)"
   ]
  },
  {
   "cell_type": "code",
   "execution_count": 12,
   "metadata": {},
   "outputs": [
    {
     "name": "stdout",
     "output_type": "stream",
     "text": [
      "[   0 1282]\n",
      "[   0 1012]\n",
      "[  0 584]\n",
      "[  0 721]\n",
      "[  0 710]\n",
      "[  0 574]\n",
      "[  0 860]\n",
      "[  0 743]\n",
      "[  1 615]\n",
      "[  1 829]\n"
     ]
    }
   ],
   "source": [
    "for i in range(10):\n",
    "    print(train[i])"
   ]
  },
  {
   "cell_type": "markdown",
   "metadata": {},
   "source": [
    "训练集大小为 (num, 2)，每行表示 (user_id, pos_id)"
   ]
  },
  {
   "cell_type": "markdown",
   "metadata": {},
   "source": [
    "## 验证/测试集"
   ]
  },
  {
   "cell_type": "code",
   "execution_count": 27,
   "metadata": {},
   "outputs": [
    {
     "name": "stdout",
     "output_type": "stream",
     "text": [
      "(100,)\n"
     ]
    }
   ],
   "source": [
    "import numpy as np\n",
    "\n",
    "test = np.load(f\"{tiktok_path}/test_sample.npy\", allow_pickle=True)\n",
    "print(test.shape)"
   ]
  },
  {
   "cell_type": "code",
   "execution_count": 28,
   "metadata": {},
   "outputs": [
    {
     "name": "stdout",
     "output_type": "stream",
     "text": [
      "[0, 584]\n",
      "<class 'list'>\n",
      "[1, 592, 673]\n",
      "<class 'list'>\n",
      "[2, 638]\n",
      "<class 'list'>\n",
      "[3, 15]\n",
      "<class 'list'>\n",
      "[4, 1004]\n",
      "<class 'list'>\n",
      "[5, 611]\n",
      "<class 'list'>\n",
      "[6, 1177]\n",
      "<class 'list'>\n",
      "[7, 885]\n",
      "<class 'list'>\n",
      "[8, 884]\n",
      "<class 'list'>\n",
      "[9, 634]\n",
      "<class 'list'>\n"
     ]
    }
   ],
   "source": [
    "for i in range(10):\n",
    "    print(test[i])\n",
    "    print(type(test[i]))"
   ]
  },
  {
   "cell_type": "markdown",
   "metadata": {},
   "source": [
    "测试集为 (num, >=1?)，每行表示 [user, pos_ids, ...]\n",
    "\n",
    "但样例的形状是 1 维，说明这里面放的是 Python object (list)...... 6 😅"
   ]
  },
  {
   "cell_type": "code",
   "execution_count": 18,
   "metadata": {},
   "outputs": [
    {
     "name": "stdout",
     "output_type": "stream",
     "text": [
      "(100,)\n"
     ]
    }
   ],
   "source": [
    "val = np.load(f\"{tiktok_path}/val_sample.npy\", allow_pickle=True)\n",
    "print(val.shape)"
   ]
  },
  {
   "cell_type": "code",
   "execution_count": 19,
   "metadata": {},
   "outputs": [
    {
     "name": "stdout",
     "output_type": "stream",
     "text": [
      "[0, 743]\n",
      "[1, 1261, 1064]\n",
      "[2]\n",
      "[3]\n",
      "[4]\n",
      "[5]\n",
      "[6]\n",
      "[7]\n",
      "[8]\n",
      "[9]\n"
     ]
    }
   ],
   "source": [
    "for i in range(10):\n",
    "    print(val[i])"
   ]
  },
  {
   "cell_type": "markdown",
   "metadata": {},
   "source": [
    "验证集跟测试集同理，我希望因为这是样例数据所以这么奇葩"
   ]
  },
  {
   "cell_type": "markdown",
   "metadata": {},
   "source": [
    "## 奇怪的交互字典"
   ]
  },
  {
   "cell_type": "code",
   "execution_count": 61,
   "metadata": {},
   "outputs": [
    {
     "name": "stdout",
     "output_type": "stream",
     "text": [
      "<class 'numpy.ndarray'>\n",
      "()\n"
     ]
    }
   ],
   "source": [
    "import numpy as np\n",
    "\n",
    "dict_sample = np.load(f\"{tiktok_path}/user_item_dict_sample.npy\", allow_pickle=True)\n",
    "print(type(dict_sample))\n",
    "print(dict_sample.shape)"
   ]
  },
  {
   "cell_type": "code",
   "execution_count": 40,
   "metadata": {},
   "outputs": [
    {
     "name": "stdout",
     "output_type": "stream",
     "text": [
      "{0: [1282, 1012, 584, 721, 710, 574, 860, 743], 1: [615, 829, 923, 1237, 1458, 1261, 830, 820, 868, 695, 993, 687, 1064, 880, 592, 1520, 673], 2: [638], 3: [15], 4: [809, 208, 1004, 525], 5: [784, 669, 618, 979, 611], 6: [1177], 7: [812, 885], 8: [884], 9: [1270], 10: [738, 1422, 1330, 810, 544, 101, 1192, 748, 609, 1035, 622, 594, 1324], 11: [224, 357, 1022, 268, 653, 801, 236, 722, 341, 618, 273, 1482, 366, 1357, 456, 394, 509, 1016, 633, 478, 315, 940, 547, 680], 12: [1059], 13: [676, 1296, 1149, 1147, 916], 14: [632], 15: [603, 713, 646, 682, 562, 649, 843, 1080, 749, 975, 1175, 904, 614, 572, 803, 962, 978, 1500, 578, 949, 662, 807, 880, 774, 699, 1363, 1442, 859, 813, 754, 1131, 1016, 1195, 229, 705, 1074, 1367, 1181, 1431, 638, 1426, 676, 919, 711, 1001, 551, 1360, 555, 602], 16: [108, 819, 428, 1548, 1512, 322, 382, 1201, 200, 66], 17: [792, 628, 598, 658, 763, 579, 975, 966, 622, 593, 700], 18: [1371], 19: [586], 20: [1454], 21: [267, 1211, 1632, 565, 902, 871, 572, 1100, 624, 414, 498, 857, 1168, 583, 507, 830, 440, 589, 1546, 630, 1570, 735, 1133, 1627, 968, 546, 426, 921, 531, 494], 22: [425, 624], 23: [571], 24: [178, 488, 1015, 546, 1372, 755, 826, 893, 663, 285, 1073], 25: [606], 26: [264, 406, 576, 1536, 1096, 1637, 634], 27: [582, 863, 573, 716, 590, 548, 633], 28: [792, 618, 760, 1310, 547], 29: [1029, 1579, 1459, 786, 654, 112, 1236], 30: [556, 897, 939, 536, 317, 1228, 710, 759, 751, 1264, 1126, 869, 385, 244, 893, 663, 407, 1453, 847, 690], 31: [43], 32: [86, 686, 563, 1420, 491, 282, 1344, 828, 350, 158, 1534, 1316, 1394, 671, 634, 1189, 1460, 519, 1243, 52, 679, 1055], 33: [1602, 837, 753, 1262, 539, 437, 971, 733, 550, 953, 633, 476, 1106], 34: [824, 194, 924, 1527, 42, 663, 528], 35: [280, 628], 36: [1191, 1033, 1017, 554, 104], 37: [1252, 1003, 459, 522, 533, 681, 898, 1598, 1556, 1119, 900, 610, 688, 1023, 1060, 1634, 386, 655, 567, 613, 1217, 529, 1645, 503, 1551, 572, 1186, 1533, 751, 35, 1522, 875, 401, 1009, 877, 254, 1246, 434, 203, 806, 948, 1293, 829, 617, 1396, 508, 1340, 1388, 812, 858, 1115, 1233, 1314, 1084, 813, 460, 860, 1588, 1438, 1124, 734, 983, 1053, 517, 553, 782, 23, 1054, 1094, 384, 1400, 226, 449, 1547, 40, 600, 762, 679, 548, 1619, 787, 457, 1410], 38: [618, 941, 1539], 39: [557, 1266, 1137, 433, 1506, 472, 160, 568, 532, 574, 74, 1213, 996, 581, 195, 1178, 938, 1240, 1105, 998, 55, 595, 81, 739, 740, 598, 445, 941, 601, 420, 838, 1599, 1184, 11, 291, 1006, 1448, 1114, 1354, 619, 851, 1276, 122, 1332, 621, 1406, 123, 854, 13, 1625, 856, 752, 363, 952, 1357, 1220, 629, 1305, 632, 369, 757, 277, 1389, 635, 863, 1498, 499, 1560, 640, 96, 316, 1390, 383, 464, 768, 162, 1466, 37, 1433, 235, 771, 661, 1611, 666, 375, 155, 1580, 402, 1230, 790, 201, 202, 687, 905, 691, 1288, 1364, 107, 143, 1315, 980, 1047, 1090, 21, 109, 1235, 73, 176, 711, 266], 40: [565, 769], 41: [992, 1464, 1051], 42: [1097, 957, 1245, 910, 1648, 695, 649, 1476, 61, 1488, 974, 1597, 1163, 706, 700], 43: [645, 1238, 647, 899, 561, 653, 496, 657, 578, 660, 728, 699, 829, 811, 1393, 914, 887, 593, 815, 547, 1017, 287], 44: [571, 582, 797], 45: [1380, 80, 1273, 1259, 837, 828, 629, 1479, 1123, 971, 1457, 115, 1466, 1581], 46: [325, 713, 716, 1377, 1108, 842, 166, 686, 1002, 1649, 1618, 446, 856, 1357, 1227, 629, 1539, 1425, 676, 941, 763, 551, 643], 47: [746, 1486, 1020, 1325, 1640, 65, 106, 19, 1489, 335, 63, 3, 1495, 230, 6, 1582, 1537, 1260, 1434, 731, 1050, 587, 1192, 169, 1234, 1409, 25, 781, 675, 1148, 26, 149, 970, 1095, 1271, 482], 48: [1056, 1057, 1301, 607, 1596, 518, 1341, 563, 1061, 389, 514, 723, 1143, 1291, 1089, 360, 1049, 585, 1519, 1542, 60, 779, 231, 1318, 886, 257, 1366, 527, 524, 1443, 1308, 712], 49: [637, 251, 1478, 1455, 796, 605, 649, 1642, 1300, 798, 755, 869, 1650, 1383, 591, 934, 827, 1589, 712], 50: [444, 374, 383, 29, 451, 682, 500, 404, 290, 422, 1610, 1636, 1387, 1138, 461, 719, 342, 245, 506, 455, 495, 616, 534, 313, 513, 1572, 933, 511, 1328, 542, 535, 880, 664, 521, 303, 100, 458, 397, 467, 630, 1509, 79, 633, 497, 206, 435, 327, 544, 597, 1505, 486, 865, 484, 301, 1086, 411, 338], 51: [1566, 1249], 52: [826, 598], 53: [813], 54: [156, 665, 31, 319, 336, 1571, 892, 587, 589, 686, 1436, 95, 937, 727, 828], 55: [572, 923, 628, 1158, 643], 56: [1419, 1150, 758, 134, 875, 1120, 598, 608, 1154, 1463], 57: [572, 841, 684, 589, 547, 657, 577, 565, 579, 93, 633], 58: [867, 130, 272, 1517, 1430, 1267, 1591, 604, 715, 821, 844, 1079, 869, 653, 1060, 1418, 1174, 1531, 689, 328, 1503, 324, 380, 1630, 1421, 931, 191, 38, 1574, 1275, 1043, 851, 723, 878, 1530, 1027, 470, 74, 963, 361, 626, 1029, 882, 857, 701, 1316, 238, 831, 1317, 1353, 860, 1123, 1568, 630, 197, 1052, 1179, 1319, 232, 1416, 352, 1644, 596, 1126, 1000, 52, 1439, 893, 56, 210, 1037], 59: [170, 922, 1098, 559, 1346, 113, 560, 1440, 716, 1567, 564, 1297, 926, 1327, 1507, 1349, 1212, 67, 575, 1142, 1553, 826, 577, 578, 994, 1441, 580, 74, 829, 830, 587, 1178, 589, 732, 1369, 78, 591, 733, 1103, 1214, 1473, 1474, 362, 1539, 832, 1066, 1429, 598, 833, 1215, 24, 185, 1068, 745, 1272, 602, 944, 836, 86, 1070, 840, 841, 1386, 1109, 119, 1110, 2, 1607, 1497, 614, 848, 849, 219, 1008, 751, 947, 1331, 1513, 396, 620, 1449, 1450, 1248, 623, 1356, 855, 625, 1514, 628, 952, 333, 1357, 629, 1334, 196, 861, 632, 862, 258, 634, 955, 1155, 354, 421, 642, 1251, 1076, 647, 1600, 304, 1118, 132, 649, 650, 1391, 653, 872, 1337, 873, 771, 279, 1374, 134, 1592, 1545, 1283, 1414, 49, 70, 665, 1226, 964, 1594, 1031, 668, 1562, 1393, 1580, 672, 888, 889, 678, 1565, 680, 790, 520, 1038, 1231, 1286, 972, 686, 974, 1378, 141, 1287, 691, 1130, 1088, 1289, 192, 1315, 1232, 806, 1167, 698, 1620, 429, 419, 1379, 1092, 912, 981, 1093, 814, 915, 1207, 707, 1295, 986, 1321, 709, 1368, 1460, 537, 438, 204, 711, 1575, 921, 553, 1055, 1494, 712], 60: [681, 693, 810, 918, 639, 1017], 61: [1127, 869, 643], 62: [188, 543, 307, 1241, 54, 1121, 1515, 679, 895, 790], 63: [821, 1058, 717, 563, 1060, 724, 1537, 1538, 148, 1, 1299, 34, 834, 207, 83, 62, 171, 1071, 1511, 607, 1557, 845, 847, 1151, 618, 1009, 1010, 172, 1615, 1626, 91, 92, 1335, 371, 430, 636, 761, 763, 14, 1336, 1281, 412, 648, 98, 377, 343, 99, 772, 1025, 1338, 1310, 1501, 1545, 1518, 320, 775, 1434, 8, 778, 138, 1483, 672, 139, 1486, 41, 683, 684, 1128, 1343, 903, 30, 692, 227, 1041, 1490, 805, 281, 697, 298, 365, 1345, 913, 1094, 1134, 242, 988, 1550], 64: [720, 1312], 65: [1471, 765, 631, 617], 66: [1087, 1253, 824, 1487, 214, 1446, 1157, 462], 67: [339, 161, 869, 492, 502, 1140, 571, 1351, 874, 395, 318, 1573, 57, 388, 1508, 857, 1393, 284, 334, 969, 596, 597, 490, 599, 549, 893, 234], 68: [1311, 1226, 1039, 10, 1208, 1044, 314, 94, 1629], 69: [1407], 70: [742, 1605], 71: [1397, 1102, 776, 958, 1362, 779, 1408, 813, 82, 1185, 1263, 1107, 756, 1067, 656, 1329], 72: [1181, 1159, 595, 803, 891, 839, 618, 1152, 742, 880, 885, 754, 941, 548, 763, 733, 827, 1463, 1207, 643], 73: [432, 1266, 468, 1469, 714, 243, 822, 179, 1585, 1173, 180, 718, 927, 569, 1382, 269, 928, 571, 447, 538, 1576, 932, 436, 994, 145, 9, 146, 1063, 331, 205, 216, 116, 0, 1352, 1461, 390, 181, 147, 582, 1428, 731, 1145, 1587, 504, 76, 589, 345, 1385, 591, 733, 1104, 735, 592, 998, 183, 416, 595, 252, 184, 505, 833, 1555, 117, 1528, 253, 367, 942, 835, 943, 237, 1069, 83, 1510, 1462, 836, 85, 87, 118, 323, 748, 217, 609, 275, 1447, 1072, 120, 946, 368, 310, 443, 246, 1007, 849, 1304, 850, 12, 88, 292, 487, 1558, 293, 326, 1218, 150, 1277, 1247, 948, 949, 173, 1646, 332, 376, 1407, 624, 463, 1187, 124, 89, 271, 90, 353, 448, 125, 151, 152, 1616, 5, 311, 276, 861, 1570, 953, 128, 129, 373, 634, 410, 1499, 864, 36, 1432, 1116, 1221, 94, 221, 1359, 1279, 351, 1544, 764, 481, 516, 1018, 278, 1477, 450, 1019, 355, 766, 131, 510, 1077, 347, 767, 1118, 97, 418, 649, 1078, 959, 261, 870, 960, 961, 653, 1024, 1412, 48, 1190, 1361, 249, 1373, 358, 133, 413, 1375, 1310, 135, 452, 659, 879, 1026, 662, 136, 1225, 262, 1415, 398, 431, 7, 1029, 199, 883, 1339, 1392, 471, 777, 329, 415, 101, 71, 294, 239, 965, 391, 466, 888, 1255, 783, 967, 189, 1197, 212, 785, 1085, 1034, 103, 970, 1313, 312, 1198, 392, 789, 1395, 1164, 372, 793, 1199, 1231, 972, 296, 1285, 683, 337, 684, 1487, 454, 901, 1456, 799, 106, 1287, 263, 255, 399, 297, 906, 694, 167, 515, 364, 1290, 44, 696, 1647, 1365, 1046, 1468, 1258, 1491, 485, 1549, 228, 911, 489, 701, 1205, 349, 702, 1294, 1525, 1132, 704, 982, 814, 706, 215, 299, 708, 815, 523, 1492, 984, 985, 1265, 1535, 1584, 300, 1135, 403, 1323, 920, 817, 921, 1210, 555, 177], 74: [84, 544, 876, 547, 907, 700], 75: [75, 681, 1170, 823, 223, 144, 747, 1357, 1242, 685, 53, 578, 548, 764, 175, 633], 76: [1484, 928, 1370, 1609, 1392, 1144, 954, 609, 659, 1171, 788, 1223, 935, 736], 77: [4], 78: [866], 79: [1226, 559, 930, 1091, 1543, 695, 638, 925, 578, 733, 611, 1028, 673], 80: [72], 81: [635, 826, 574, 598], 82: [574, 863, 638, 598], 83: [1496, 473, 1183, 213, 973, 1309, 723, 302, 1165, 1257, 1529, 1011, 1122, 1160, 1398, 1101, 1541, 627, 1481, 1641, 378, 1083, 997, 779, 77, 1194, 1284, 1435, 741, 1244, 1411], 84: [691, 638], 85: [1577, 1523, 1166, 1200, 1136, 477, 1445, 1269], 86: [816, 126], 87: [814], 88: [1127, 928, 950, 1032, 851, 826, 1206, 749, 989, 1180], 89: [1268], 90: [558, 1639, 1274, 684, 716, 1578, 820, 1216, 1326, 566, 612, 1601, 211, 616, 691, 572, 723, 618, 1631, 725, 1292, 881, 936, 1226, 1384, 1082, 779, 1583, 630, 1608, 733, 1065, 18, 595, 51, 1595, 1444, 1564, 941, 1628, 240, 642, 1401], 91: [164], 92: [556, 159, 359, 1622, 1347, 308, 286, 991, 720, 1239, 114, 569, 1176, 929, 1350, 501, 1062, 530, 321, 581, 441, 346, 594, 283, 80, 33, 408, 274, 1182, 598, 253, 1569, 442, 1108, 475, 469, 540, 405, 1403, 59, 1303, 1405, 121, 1153, 1475, 186, 1465, 853, 1219, 220, 89, 247, 1014, 127, 493, 370, 259, 638, 1222, 222, 1358, 198, 248, 1590, 209, 400, 233, 1452, 1561, 154, 1078, 651, 770, 69, 163, 409, 1414, 1376, 774, 526, 1161, 483, 50, 165, 137, 225, 1254, 28, 512, 344, 541, 677, 295, 474, 40, 893, 305, 453, 1162, 140, 1038, 795, 330, 306, 1128, 250, 1040, 1502, 105, 356, 905, 1129, 142, 157, 1524, 1423, 1604, 110, 1504, 379, 1424, 1643, 265, 111, 1134, 288, 1368, 480, 1493, 987, 1209], 93: [794, 1117, 990, 1021, 153, 894, 465, 1326, 901, 187, 1111, 1112, 1099, 218, 1139, 17, 68, 849, 616, 1623, 977, 1141, 1044, 1355, 1202, 1437, 47, 727, 1081, 393, 728, 1298, 909, 729, 1270, 168, 1428, 884, 45, 1379, 1451, 1333, 1467, 1320, 735, 1603, 592, 1554, 241, 634, 1399, 1638, 674, 417, 739, 1256, 1540, 545, 39, 638, 1250, 1229, 289, 744, 970, 1633, 1036, 1018, 1617, 427], 94: [773], 95: [896, 1196, 794, 1048, 776, 1042, 1165, 589, 1193, 565, 553, 737], 96: [1516, 58, 1169, 739], 97: [1118, 27], 98: [1278, 890, 1049, 1302, 852, 779, 941, 670, 976, 995, 945, 1521, 750], 99: [710, 571, 22, 1348]}\n"
     ]
    }
   ],
   "source": [
    "print(dict_sample)"
   ]
  },
  {
   "cell_type": "markdown",
   "metadata": {},
   "source": [
    "这明明是个 dict 为什么要存 npy 啊... json 不香吗"
   ]
  },
  {
   "cell_type": "code",
   "execution_count": 41,
   "metadata": {},
   "outputs": [
    {
     "name": "stdout",
     "output_type": "stream",
     "text": [
      "<class 'dict'>\n"
     ]
    }
   ],
   "source": [
    "ui_dict = dict_sample[()]\n",
    "print(type(ui_dict))"
   ]
  },
  {
   "cell_type": "code",
   "execution_count": 42,
   "metadata": {},
   "outputs": [
    {
     "name": "stdout",
     "output_type": "stream",
     "text": [
      "dict_keys([0, 1, 2, 3, 4, 5, 6, 7, 8, 9, 10, 11, 12, 13, 14, 15, 16, 17, 18, 19, 20, 21, 22, 23, 24, 25, 26, 27, 28, 29, 30, 31, 32, 33, 34, 35, 36, 37, 38, 39, 40, 41, 42, 43, 44, 45, 46, 47, 48, 49, 50, 51, 52, 53, 54, 55, 56, 57, 58, 59, 60, 61, 62, 63, 64, 65, 66, 67, 68, 69, 70, 71, 72, 73, 74, 75, 76, 77, 78, 79, 80, 81, 82, 83, 84, 85, 86, 87, 88, 89, 90, 91, 92, 93, 94, 95, 96, 97, 98, 99])\n"
     ]
    }
   ],
   "source": [
    "print(ui_dict.keys())"
   ]
  },
  {
   "cell_type": "markdown",
   "metadata": {},
   "source": [
    "# 数据集转换"
   ]
  },
  {
   "cell_type": "markdown",
   "metadata": {},
   "source": [
    "## 多模态特征\n",
    "\n",
    "将 MMSSL 格式的 npy 处理成 pt 应该就行了"
   ]
  },
  {
   "cell_type": "code",
   "execution_count": 4,
   "metadata": {},
   "outputs": [],
   "source": [
    "out = \"/home/yzh/code/MMGCN/Data/ifashion\""
   ]
  },
  {
   "cell_type": "code",
   "execution_count": 21,
   "metadata": {},
   "outputs": [],
   "source": [
    "import numpy as np\n",
    "import torch"
   ]
  },
  {
   "cell_type": "markdown",
   "metadata": {},
   "source": [
    "先试试原始维度能不能跑"
   ]
  },
  {
   "cell_type": "code",
   "execution_count": 22,
   "metadata": {},
   "outputs": [],
   "source": [
    "# 图像\n",
    "image_feat = np.load('ifashion_ds/image_feat.npy')\n",
    "image_feat_tensor = torch.from_numpy(image_feat)\n",
    "torch.save(image_feat_tensor, 'ifashion_ds/image_feat.pt')"
   ]
  },
  {
   "cell_type": "code",
   "execution_count": 24,
   "metadata": {},
   "outputs": [
    {
     "name": "stdout",
     "output_type": "stream",
     "text": [
      "torch.Size([51939, 512])\n"
     ]
    }
   ],
   "source": [
    "t = torch.load('ifashion_ds/image_feat.pt')\n",
    "print(t.shape)\n",
    "del t"
   ]
  },
  {
   "cell_type": "code",
   "execution_count": 25,
   "metadata": {},
   "outputs": [],
   "source": [
    "# 文本\n",
    "text_feat = np.load('ifashion_ds/text_feat.npy')\n",
    "text_feat_tensor = torch.from_numpy(text_feat)\n",
    "torch.save(text_feat_tensor, 'ifashion_ds/text_feat.pt')"
   ]
  },
  {
   "cell_type": "code",
   "execution_count": 26,
   "metadata": {},
   "outputs": [
    {
     "name": "stdout",
     "output_type": "stream",
     "text": [
      "torch.Size([51939, 1024])\n"
     ]
    }
   ],
   "source": [
    "t = torch.load('ifashion_ds/text_feat.pt')\n",
    "print(t.shape)\n",
    "del t"
   ]
  },
  {
   "cell_type": "markdown",
   "metadata": {},
   "source": [
    "## 交互数据"
   ]
  },
  {
   "cell_type": "markdown",
   "metadata": {},
   "source": [
    "训练集其实就是将逐行的 interactions 用 `.npy` 存起来，内容一样"
   ]
  },
  {
   "cell_type": "code",
   "execution_count": 6,
   "metadata": {},
   "outputs": [
    {
     "name": "stdout",
     "output_type": "stream",
     "text": [
      "(1093863, 2)\n"
     ]
    }
   ],
   "source": [
    "import numpy as np\n",
    "import json\n",
    "from collections import defaultdict\n",
    "\n",
    "with open(\"ifashion_ds/remap/user2id.json\", 'r', encoding='utf-8') as f1:\n",
    "    user2id: dict[str, int] = json.load(f1)\n",
    "\n",
    "with open(\"ifashion_ds/remap/item2id.json\", 'r', encoding='utf-8') as f2:\n",
    "    item2id: dict[str, int] = json.load(f2)\n",
    "\n",
    "user_item_pairs = []\n",
    "\n",
    "with open('ifashion_ds/filter_interactions.txt', 'r') as train_file:\n",
    "    for line in train_file:\n",
    "        user, item, _ratings = line.split(' ')\n",
    "        user_item_pairs.append([user2id[user], item2id[item]])\n",
    "\n",
    "user_item_array = np.array(user_item_pairs)\n",
    "print(user_item_array.shape)"
   ]
  },
  {
   "cell_type": "code",
   "execution_count": 7,
   "metadata": {},
   "outputs": [],
   "source": [
    "np.save(f'{out}/train.npy', user_item_array)"
   ]
  },
  {
   "cell_type": "code",
   "execution_count": 10,
   "metadata": {},
   "outputs": [],
   "source": [
    "import json\n",
    "\n",
    "with open('ifashion_ds/remap/ifashion_val.json', 'r') as val_file:\n",
    "    val_data = json.load(val_file)\n",
    "\n",
    "val_out = []\n",
    "for user, items in val_data.items():\n",
    "    merge = [int(user)]\n",
    "    merge.extend(items)\n",
    "    val_out.append(merge)\n",
    "\n",
    "val_array = np.array(val_out, dtype=object)\n",
    "np.save(f'{out}/val.npy', val_array)"
   ]
  },
  {
   "cell_type": "code",
   "execution_count": 11,
   "metadata": {},
   "outputs": [
    {
     "name": "stdout",
     "output_type": "stream",
     "text": [
      "(33785,)\n"
     ]
    }
   ],
   "source": [
    "t = np.load(f'{out}/val.npy', allow_pickle=True)\n",
    "print(t.shape)\n",
    "del t"
   ]
  },
  {
   "cell_type": "code",
   "execution_count": 12,
   "metadata": {},
   "outputs": [],
   "source": [
    "import json\n",
    "\n",
    "with open('ifashion_ds/remap/ifashion_test.json', 'r') as test_file:\n",
    "    test_data = json.load(test_file)\n",
    "\n",
    "test_out = []\n",
    "for user, items in test_data.items():\n",
    "    merge = [int(user)]\n",
    "    merge.extend(items)\n",
    "    test_out.append(merge)\n",
    "\n",
    "test_array = np.array(test_out, dtype=object)\n",
    "np.save(f'{out}/test.npy', test_array)"
   ]
  },
  {
   "cell_type": "code",
   "execution_count": 13,
   "metadata": {},
   "outputs": [
    {
     "name": "stdout",
     "output_type": "stream",
     "text": [
      "(37510,)\n"
     ]
    }
   ],
   "source": [
    "t = np.load(f'{out}/test.npy', allow_pickle=True)\n",
    "print(t.shape)\n",
    "del t"
   ]
  },
  {
   "cell_type": "code",
   "execution_count": 57,
   "metadata": {},
   "outputs": [
    {
     "name": "stdout",
     "output_type": "stream",
     "text": [
      "sending incremental file list\n",
      "image_feat.pt\n",
      "    106,372,267 100%  393.07MB/s    0:00:00 (xfr#1, to-chk=0/1)\n",
      "\n",
      "sent 106,398,356 bytes  received 35 bytes  212,796,782.00 bytes/sec\n",
      "total size is 106,372,267  speedup is 1.00\n",
      "sending incremental file list\n",
      "text_feat.pt\n",
      "    212,743,334 100%  396.20MB/s    0:00:00 (xfr#1, to-chk=0/1)\n",
      "\n",
      "sent 212,795,391 bytes  received 35 bytes  141,863,617.33 bytes/sec\n",
      "total size is 212,743,334  speedup is 1.00\n"
     ]
    }
   ],
   "source": [
    "%%bash\n",
    "rsync -avcP ifashion_ds/image_feat.pt ../Data/ifashion/v_feat.pt\n",
    "rsync -avcP ifashion_ds/text_feat.pt ../Data/ifashion/t_feat.pt"
   ]
  },
  {
   "cell_type": "markdown",
   "metadata": {},
   "source": [
    "## 交互字典"
   ]
  },
  {
   "cell_type": "code",
   "execution_count": 8,
   "metadata": {},
   "outputs": [],
   "source": [
    "import json\n",
    "\n",
    "with open('ifashion_ds/remap/interactions.json', 'r') as file:\n",
    "    user_item_dict = json.load(file)\n",
    "\n",
    "ui_dict = {int(user): items for user, items in user_item_dict.items()}\n",
    "user_item_array = np.array(ui_dict, dtype=object)\n",
    "np.save(f'{out}/user_item_dict.npy', user_item_array)"
   ]
  },
  {
   "cell_type": "code",
   "execution_count": 9,
   "metadata": {},
   "outputs": [
    {
     "name": "stdout",
     "output_type": "stream",
     "text": [
      "()\n"
     ]
    }
   ],
   "source": [
    "t = np.load(f'{out}/user_item_dict.npy', allow_pickle=True)\n",
    "print(t.shape)"
   ]
  },
  {
   "cell_type": "code",
   "execution_count": null,
   "metadata": {},
   "outputs": [],
   "source": []
  }
 ],
 "metadata": {
  "kernelspec": {
   "display_name": "mmgcn",
   "language": "python",
   "name": "python3"
  },
  "language_info": {
   "codemirror_mode": {
    "name": "ipython",
    "version": 3
   },
   "file_extension": ".py",
   "mimetype": "text/x-python",
   "name": "python",
   "nbconvert_exporter": "python",
   "pygments_lexer": "ipython3",
   "version": "3.9.20"
  }
 },
 "nbformat": 4,
 "nbformat_minor": 2
}
