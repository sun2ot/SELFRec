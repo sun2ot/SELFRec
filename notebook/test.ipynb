{
 "cells": [
  {
   "cell_type": "code",
   "execution_count": 1,
   "metadata": {},
   "outputs": [],
   "source": [
    "config = {}\n",
    "config['a'] = 1\n",
    "config['b'] = 2"
   ]
  },
  {
   "cell_type": "code",
   "execution_count": 2,
   "metadata": {},
   "outputs": [
    {
     "name": "stdout",
     "output_type": "stream",
     "text": [
      "{'a': 1, 'b': 2}\n"
     ]
    }
   ],
   "source": [
    "print(config)"
   ]
  },
  {
   "cell_type": "code",
   "execution_count": 15,
   "metadata": {},
   "outputs": [
    {
     "name": "stdout",
     "output_type": "stream",
     "text": [
      "['-topN', '10,20']\n"
     ]
    }
   ],
   "source": [
    "content = '-topN 10,20'.strip().split(' ')\n",
    "print(content)\n",
    "options = {}"
   ]
  },
  {
   "cell_type": "code",
   "execution_count": 17,
   "metadata": {},
   "outputs": [
    {
     "name": "stdout",
     "output_type": "stream",
     "text": [
      "-topN\n",
      "0 10,20\n",
      "-topN ['10,20']\n",
      "10,20\n"
     ]
    }
   ],
   "source": [
    "for i, item in enumerate(content):\n",
    "    print(item)\n",
    "    if (item.startswith('-') or item.startswith('--')) and not item[1:].isdigit():\n",
    "        ind = i+1  # 找到了参数选项，to next item\n",
    "        for j,sub in enumerate(content[ind:]):\n",
    "            print(j, sub)\n",
    "            if (sub.startswith('-') or sub.startswith('--')) and not sub[1:].isdigit():\n",
    "                ind = j\n",
    "                break\n",
    "            if j == len(content[ind:])-1:\n",
    "                ind=j+1\n",
    "                break\n",
    "        try:\n",
    "            print(item, content[i+1:i+1+ind])\n",
    "            options[item] = ' '.join(content[i+1:i+1+ind])\n",
    "        except IndexError:\n",
    "            options[item] = 1"
   ]
  },
  {
   "cell_type": "code",
   "execution_count": 18,
   "metadata": {},
   "outputs": [
    {
     "data": {
      "text/plain": [
       "{'-topN': '10,20'}"
      ]
     },
     "execution_count": 18,
     "metadata": {},
     "output_type": "execute_result"
    }
   ],
   "source": [
    "options"
   ]
  },
  {
   "cell_type": "code",
   "execution_count": null,
   "metadata": {},
   "outputs": [],
   "source": []
  }
 ],
 "metadata": {
  "kernelspec": {
   "display_name": "selfrec",
   "language": "python",
   "name": "python3"
  },
  "language_info": {
   "codemirror_mode": {
    "name": "ipython",
    "version": 3
   },
   "file_extension": ".py",
   "mimetype": "text/x-python",
   "name": "python",
   "nbconvert_exporter": "python",
   "pygments_lexer": "ipython3",
   "version": "3.9.19"
  }
 },
 "nbformat": 4,
 "nbformat_minor": 2
}
